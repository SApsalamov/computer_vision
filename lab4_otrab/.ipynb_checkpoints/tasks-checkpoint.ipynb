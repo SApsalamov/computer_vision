{
 "cells": [
  {
   "cell_type": "markdown",
   "metadata": {},
   "source": [
    "## Task 1\n",
    "Двоичный пробел внутри положительного целого числа N - это любая максимальная последовательность последовательных нулей, окруженная единицами на обоих концах в двоичном представлении N.\n",
    "\n",
    "\n",
    "Например, число 9 имеет двоичное представление 1001 и содержит двоичный пробел длиной 2. Число 529 имеет двоичное представление 1000010001 и содержит два двоичных пробела: один длиной 4 и один длиной 3. Число 20 имеет двоичное представление 10100 и содержит один двоичный пробел длиной 1. Число 15 имеет двоичное представление 1111 и не имеет двоичных пробелов. Число 32 имеет двоичное представление 100000 и не имеет двоичных пробелов.\n",
    "\n",
    "\n",
    "Напишите функцию:\n",
    "\n",
    "\n",
    "Def solution(N):\n",
    "\tpass\n",
    "\n",
    "\n",
    "который, учитывая положительное целое число N, возвращает длину самого длинного двоичного пробела. Функция должна вернуть 0, если N не содержит двоичного пробела.\n",
    "\n",
    "\n",
    "Например, при N = 1041 функция должна вернуть 5, потому что N имеет двоичное представление 10000010001, и поэтому его самый длинный двоичный пробел имеет длину 5. При N = 32 функция должна возвращать 0, потому что N имеет двоичное представление '100000' и, следовательно, нет двоичных пробелов.\n",
    "\n",
    "\n",
    "Напишите эффективный алгоритм для следующих предположений:\n",
    "\n",
    "\n",
    "N - целое число в диапазоне [1..2 147 483 647]."
   ]
  },
  {
   "cell_type": "code",
   "execution_count": 41,
   "metadata": {},
   "outputs": [
    {
     "data": {
      "text/plain": [
       "'0b100000'"
      ]
     },
     "execution_count": 41,
     "metadata": {},
     "output_type": "execute_result"
    }
   ],
   "source": [
    "num = 32\n",
    "bin(num)"
   ]
  },
  {
   "cell_type": "code",
   "execution_count": 2,
   "metadata": {},
   "outputs": [
    {
     "data": {
      "text/plain": [
       "'0b1000010001'"
      ]
     },
     "execution_count": 2,
     "metadata": {},
     "output_type": "execute_result"
    }
   ],
   "source": [
    "num = 529\n",
    "bin(num)"
   ]
  },
  {
   "cell_type": "code",
   "execution_count": 3,
   "metadata": {},
   "outputs": [
    {
     "data": {
      "text/plain": [
       "'1000010001'"
      ]
     },
     "execution_count": 3,
     "metadata": {},
     "output_type": "execute_result"
    }
   ],
   "source": [
    "nstr = bin(num)\n",
    "nstr[2:]"
   ]
  },
  {
   "cell_type": "code",
   "execution_count": 4,
   "metadata": {},
   "outputs": [
    {
     "data": {
      "text/plain": [
       "'0b1000010001'"
      ]
     },
     "execution_count": 4,
     "metadata": {},
     "output_type": "execute_result"
    }
   ],
   "source": [
    "nstr"
   ]
  },
  {
   "cell_type": "code",
   "execution_count": 5,
   "metadata": {},
   "outputs": [],
   "source": [
    "import re"
   ]
  },
  {
   "cell_type": "code",
   "execution_count": 21,
   "metadata": {},
   "outputs": [
    {
     "data": {
      "text/plain": [
       "['100001']"
      ]
     },
     "execution_count": 21,
     "metadata": {},
     "output_type": "execute_result"
    }
   ],
   "source": [
    "nlst = re.findall(r\"1[0]+1\", '1000010001')\n",
    "nlst"
   ]
  },
  {
   "cell_type": "code",
   "execution_count": 28,
   "metadata": {},
   "outputs": [
    {
     "name": "stdout",
     "output_type": "stream",
     "text": [
      "1\n",
      "0\n",
      "0\n",
      "0\n",
      "0\n",
      "1\n",
      "['0', '0', '0', '0']\n",
      "0\n",
      "0\n",
      "0\n",
      "1\n",
      "['0', '0', '0']\n"
     ]
    }
   ],
   "source": [
    "lst = []\n",
    "max_zero_size = 0\n",
    "one_flag = False\n",
    "for ch in nstr[2:]:\n",
    "    print(ch)\n",
    "    \n",
    "    if ch == '1' and one_flag != True:\n",
    "        one_flag = True\n",
    "        lst = []\n",
    "        # lst.append(ch)\n",
    "    elif ch == '1' and one_flag == True:\n",
    "        # lst.append(ch)\n",
    "        # append length of 0\n",
    "        print(lst)\n",
    "        if max_zero_size <  len(lst):\n",
    "            max_zero_size = len(lst)\n",
    "        lst = []\n",
    "    elif ch == '0' and one_flag == True:\n",
    "        lst.append(ch)\n",
    "        \n",
    "        \n",
    "    "
   ]
  },
  {
   "cell_type": "code",
   "execution_count": 29,
   "metadata": {},
   "outputs": [
    {
     "data": {
      "text/plain": [
       "4"
      ]
     },
     "execution_count": 29,
     "metadata": {},
     "output_type": "execute_result"
    }
   ],
   "source": [
    "max_zero_size"
   ]
  },
  {
   "cell_type": "code",
   "execution_count": 31,
   "metadata": {},
   "outputs": [],
   "source": [
    "def solution_task1(num):\n",
    "    nstr = bin(num)\n",
    "    lst = []\n",
    "    max_zero_size = 0\n",
    "    one_flag = False\n",
    "    for ch in nstr[2:]:\n",
    "        print(ch)\n",
    "\n",
    "        if ch == '1' and one_flag != True:\n",
    "            one_flag = True\n",
    "            lst = []\n",
    "        elif ch == '1' and one_flag == True:\n",
    "            # append length of 0\n",
    "            print(lst)\n",
    "            if max_zero_size <  len(lst):\n",
    "                max_zero_size = len(lst)\n",
    "            lst = []\n",
    "        elif ch == '0' and one_flag == True:\n",
    "            lst.append(ch)\n",
    "    return max_zero_size "
   ]
  },
  {
   "cell_type": "code",
   "execution_count": 32,
   "metadata": {},
   "outputs": [
    {
     "name": "stdout",
     "output_type": "stream",
     "text": [
      "1\n",
      "0\n",
      "0\n",
      "1\n",
      "['0', '0']\n",
      "2\n"
     ]
    }
   ],
   "source": [
    "print(solution_task1(9))"
   ]
  },
  {
   "cell_type": "code",
   "execution_count": 33,
   "metadata": {},
   "outputs": [
    {
     "name": "stdout",
     "output_type": "stream",
     "text": [
      "1\n",
      "0\n",
      "0\n",
      "0\n",
      "0\n",
      "1\n",
      "['0', '0', '0', '0']\n",
      "0\n",
      "0\n",
      "0\n",
      "1\n",
      "['0', '0', '0']\n",
      "4\n"
     ]
    }
   ],
   "source": [
    "print(solution_task1(529))"
   ]
  },
  {
   "cell_type": "code",
   "execution_count": 34,
   "metadata": {},
   "outputs": [
    {
     "name": "stdout",
     "output_type": "stream",
     "text": [
      "1\n",
      "0\n",
      "1\n",
      "['0']\n",
      "0\n",
      "0\n",
      "1\n"
     ]
    }
   ],
   "source": [
    "print(solution_task1(20))"
   ]
  },
  {
   "cell_type": "code",
   "execution_count": 36,
   "metadata": {},
   "outputs": [
    {
     "name": "stdout",
     "output_type": "stream",
     "text": [
      "1\n",
      "1\n",
      "[]\n",
      "1\n",
      "[]\n",
      "1\n",
      "[]\n",
      "res 0\n"
     ]
    }
   ],
   "source": [
    "print(\"res\",solution_task1(15))"
   ]
  },
  {
   "cell_type": "code",
   "execution_count": null,
   "metadata": {},
   "outputs": [],
   "source": [
    "print(\"res\",solution_task1(15))"
   ]
  },
  {
   "cell_type": "code",
   "execution_count": 37,
   "metadata": {},
   "outputs": [],
   "source": [
    "def solution_task1_prod(num):\n",
    "    nstr = bin(num)\n",
    "    lst = []\n",
    "    max_zero_size = 0\n",
    "    one_flag = False\n",
    "    for ch in nstr[2:]:\n",
    "        \n",
    "        if ch == '1' and one_flag != True:\n",
    "            # first value check\n",
    "            one_flag = True\n",
    "            lst = []\n",
    "        elif ch == '1' and one_flag == True:\n",
    "            # find max length of zero list\n",
    "            if max_zero_size <  len(lst):\n",
    "                max_zero_size = len(lst)\n",
    "            # reset list for next binary space (if it exists)\n",
    "            lst = []\n",
    "        elif ch == '0' and one_flag == True:\n",
    "            # make zero list\n",
    "            lst.append(ch)\n",
    "    return max_zero_size "
   ]
  },
  {
   "cell_type": "code",
   "execution_count": 40,
   "metadata": {},
   "outputs": [
    {
     "name": "stdout",
     "output_type": "stream",
     "text": [
      "for 1041 ( 0b10000010001 ) max zero space: 5\n",
      "for 32 ( 0b100000 ) max zero space: 0\n",
      "for 20 ( 0b10100 ) max zero space: 1\n",
      "for 15 ( 0b1111 ) max zero space: 0\n",
      "for 529 ( 0b1000010001 ) max zero space: 4\n",
      "for 9 ( 0b1001 ) max zero space: 2\n"
     ]
    }
   ],
   "source": [
    "sol_list = [1041, 32, 20, 15, 529, 9]\n",
    "for sol in sol_list:\n",
    "    print(f\"for {sol} ( {bin(sol)} ) max zero space: {solution_task1_prod(sol)}\")"
   ]
  },
  {
   "cell_type": "markdown",
   "metadata": {},
   "source": [
    "## Task 2\n",
    "\n",
    "Рисуем на плоскости N дисков. Диски пронумерованы от 0 до N - 1. Дан массив A из N неотрицательных целых чисел, определяющих радиусы дисков. J-й диск нарисован с центром в точке (J, 0) и радиусом A [J].\n",
    "\n",
    "\n",
    "Мы говорим, что J-й диск и K-й диск пересекаются, если J ≠ K и J-й и K-й диски имеют хотя бы одну общую точку (предполагая, что диски содержат свои границы).\n",
    "\n",
    "\n",
    "На рисунке ниже показаны диски, нарисованные для N = 6 и A следующим образом:\n",
    "\n",
    "\n",
    "  A [0] = 1    \n",
    "  A [1] = 5    \n",
    "  A [2] = 2    \n",
    "  A [3] = 1    \n",
    "  A [4] = 4    \n",
    "  A [5] = 0\n",
    "\n",
    "\n",
    "\n",
    "Есть одиннадцать (неупорядоченных) пар дисков, которые пересекаются, а именно:\n",
    "\n",
    "\n",
    "диски 1 и 4 пересекаются, и оба пересекаются со всеми другими дисками;\n",
    "диск 2 также пересекается с дисками 0 и 3.\n",
    "\n",
    "Напишите функцию:\n",
    "\n",
    "\n",
    "класс Решение {общедоступное решение int (int [] A); }\n",
    "\n",
    "\n",
    "который, учитывая массив A, описывающий N дисков, как объяснено выше, возвращает количество (неупорядоченных) пар пересекающихся дисков. Функция должна вернуть -1, если количество пересекающихся пар превышает 10 000 000.\n",
    "\n",
    "\n",
    "Для данного массива A, показанного выше, функция должна вернуть 11, как объяснено выше.\n",
    "\n",
    "\n",
    "Напишите эффективный алгоритм для следующих предположений:\n",
    "\n",
    "\n",
    "N - целое число в диапазоне [0..100,000];\n",
    "каждый элемент массива A является целым числом в диапазоне [0..2 147 483 647]."
   ]
  },
  {
   "cell_type": "code",
   "execution_count": null,
   "metadata": {},
   "outputs": [],
   "source": []
  },
  {
   "cell_type": "code",
   "execution_count": null,
   "metadata": {},
   "outputs": [],
   "source": []
  },
  {
   "cell_type": "code",
   "execution_count": null,
   "metadata": {},
   "outputs": [],
   "source": []
  },
  {
   "cell_type": "code",
   "execution_count": null,
   "metadata": {},
   "outputs": [],
   "source": []
  }
 ],
 "metadata": {
  "kernelspec": {
   "display_name": "Python 3",
   "language": "python",
   "name": "python3"
  },
  "language_info": {
   "codemirror_mode": {
    "name": "ipython",
    "version": 3
   },
   "file_extension": ".py",
   "mimetype": "text/x-python",
   "name": "python",
   "nbconvert_exporter": "python",
   "pygments_lexer": "ipython3",
   "version": "3.7.4"
  }
 },
 "nbformat": 4,
 "nbformat_minor": 4
}
